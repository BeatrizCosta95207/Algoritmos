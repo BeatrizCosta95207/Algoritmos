{
 "cells": [
  {
   "cell_type": "markdown",
   "metadata": {},
   "source": [
    "# TPC6"
   ]
  },
  {
   "cell_type": "markdown",
   "metadata": {},
   "source": [
    "## UC de Algorítmos e Técnicas de Programação 2021/22"
   ]
  },
  {
   "cell_type": "markdown",
   "metadata": {},
   "source": [
    "* __Data início:__2021-11-21\n",
    "* __Data fim:__ 2021-11-21\n",
    "* __Supervisor:__José Carlos Leite Ramalho, https://www.di.uminho.pt/~jcr/the-juris.php\n",
    "* __Autor:__ Beatriz Lima Costa, a95207"
   ]
  },
  {
   "cell_type": "markdown",
   "metadata": {},
   "source": [
    "# Resumo\n",
    "\n",
    "Como sexto trabalho de casa foi pedida a realização dos __exercícios de representação gráfica__ do guião da aula. O primeiro exercício consistia na impressão de um quadrado de um lado específico. O segundo era semelhante, no entanto, era suposto imprimir todos os quadrados de lado 1 a 100. E, por último, imprimir o gráfico de três polinómios, __recorrendo ao módulo polinomio__ criado na aula anterior."
   ]
  },
  {
   "cell_type": "markdown",
   "metadata": {},
   "source": [
    "\n",
    "\n",
    "# Ficha técnica\n",
    "\n",
    "__identificador__: aulaP6;\n",
    "\n",
    "__título__: Representação gráfica de informação;\n",
    "\n",
    "__data início__: 2021-11-15;\n",
    "\n",
    "__autor__: José Carlos Ramalho, D1513;\n",
    "\n",
    "__resumo__: Nesta aula, irás aprender a representar conjuntos de dados de forma gráfica. A ficha tem pequenos exemplos\n",
    "e propõe alguns exercícios de consolidação."
   ]
  },
  {
   "cell_type": "markdown",
   "metadata": {},
   "source": [
    "## Plot\n",
    "Para a representação gráfica iremos usar o módulo plot.\n",
    "\n",
    "### Instalação\n",
    "`pip install matplotlib`"
   ]
  },
  {
   "cell_type": "markdown",
   "metadata": {},
   "source": [
    "### Plot1: uma espécie de \"Hello world!\""
   ]
  },
  {
   "cell_type": "code",
   "execution_count": null,
   "metadata": {},
   "outputs": [],
   "source": [
    "# importing the required module\n",
    "import matplotlib.pyplot as plt\n",
    " \n",
    "# x axis values\n",
    "x = [1,2,3]\n",
    "# corresponding y axis values\n",
    "y = [2,4,1]\n",
    " \n",
    "# plotting the points\n",
    "plt.plot(x, y)\n",
    " \n",
    "# naming the x axis\n",
    "plt.xlabel('Abcissas')\n",
    "# naming the y axis\n",
    "plt.ylabel('Ordenadas')\n",
    " \n",
    "# giving a title to my graph\n",
    "plt.title('O meu primeiro gráfico!')\n",
    " \n",
    "# function to show the plot\n",
    "plt.show()"
   ]
  },
  {
   "cell_type": "markdown",
   "metadata": {},
   "source": [
    "### Plot2: duas funções no mesmo gráfico"
   ]
  },
  {
   "cell_type": "code",
   "execution_count": null,
   "metadata": {},
   "outputs": [],
   "source": [
    "import matplotlib.pyplot as plt\n",
    " \n",
    "# line 1 points\n",
    "x1 = [1,2,3]\n",
    "y1 = [2,4,1]\n",
    "# plotting the line 1 points\n",
    "plt.plot(x1, y1, label = \"linha 1\")\n",
    " \n",
    "# line 2 points\n",
    "x2 = [1,2,3]\n",
    "y2 = [4,1,3]\n",
    "# plotting the line 2 points\n",
    "plt.plot(x2, y2, label = \"linha 2\")\n",
    " \n",
    "# naming the x axis\n",
    "plt.xlabel('Abcissas')\n",
    "# naming the y axis\n",
    "plt.ylabel('Ordenadas')\n",
    "# giving a title to my graph\n",
    "plt.title('Gráfico com duas funções')\n",
    " \n",
    "# show a legend on the plot\n",
    "plt.legend()\n",
    " \n",
    "# function to show the plot\n",
    "plt.show()"
   ]
  },
  {
   "cell_type": "markdown",
   "metadata": {},
   "source": [
    "### Plot3: configurações"
   ]
  },
  {
   "cell_type": "code",
   "execution_count": null,
   "metadata": {},
   "outputs": [],
   "source": [
    "import matplotlib.pyplot as plt\n",
    " \n",
    "# x axis values\n",
    "x = [1,2,3,4,5,6]\n",
    "# corresponding y axis values\n",
    "y = [2,4,1,5,2,6]\n",
    " \n",
    "# plotting the points\n",
    "plt.plot(x, y, color='green', linestyle='dashed', linewidth = 3,\n",
    "         marker='o', markerfacecolor='blue', markersize=12)\n",
    " \n",
    "# setting x and y axis range\n",
    "plt.ylim(1,8)\n",
    "plt.xlim(1,8)\n",
    " \n",
    "# naming the x axis\n",
    "plt.xlabel('Abcissas')\n",
    "# naming the y axis\n",
    "plt.ylabel('Ordenadas')\n",
    " \n",
    "# giving a title to my graph\n",
    "plt.title('Um gráfico com estilo!')\n",
    " \n",
    "# function to show the plot\n",
    "plt.show()"
   ]
  },
  {
   "cell_type": "markdown",
   "metadata": {},
   "source": [
    "## Primeiros exercícios\n",
    "### Exercício 1: desenha um quadrado centrado na origem com 5 unidades de lado"
   ]
  },
  {
   "cell_type": "code",
   "execution_count": 3,
   "metadata": {},
   "outputs": [
    {
     "data": {
      "image/png": "[encoded data removed]",
      "text/plain": [
       "<Figure size 432x288 with 1 Axes>"
      ]
     },
     "metadata": {
      "needs_background": "light"
     },
     "output_type": "display_data"
    }
   ],
   "source": [
    "import matplotlib.pyplot as plt\n",
    "\n",
    "x=[-5,5,5,-5,-5]\n",
    "y=[5,5,-5,-5,5]\n",
    "\n",
    "plt.plot(x,y)\n",
    "plt.title( \"Quadrado\")\n",
    "\n",
    "plt.show()"
   ]
  },
  {
   "cell_type": "markdown",
   "metadata": {},
   "source": [
    "### Exercício 2: desenha n quadrados centrados na origem com lados 1..10"
   ]
  },
  {
   "cell_type": "code",
   "execution_count": 8,
   "metadata": {},
   "outputs": [
    {
     "data": {
      "image/png": "[encoded data removed]",
      "text/plain": [
       "<Figure size 432x288 with 1 Axes>"
      ]
     },
     "metadata": {
      "needs_background": "light"
     },
     "output_type": "display_data"
    }
   ],
   "source": [
    "import matplotlib.pyplot as plt\n",
    "i=1\n",
    "for i in range (1,101):\n",
    "    x=[-i,i,i,-i,-i]\n",
    "    y=[i,i,-i,-i,i]\n",
    "    plt.plot(x,y)\n",
    "\n",
    "plt.show()"
   ]
  },
  {
   "cell_type": "markdown",
   "metadata": {},
   "source": [
    "### Exercício 3: representa graficamente os seguintes polinómios\n",
    "* 2x - 5\n",
    "* x^2 - 7\n",
    "* x^3 - 2x^2 + 1\n",
    "\n",
    "Para isso:\n",
    "* Descarrega o módulo polinómio, desenvolvido pelo docente;\n",
    "* Cria um programa e define os 3 polinómios;\n",
    "* Cria uma representação gráfica para: x = x; y = plo(x);\n",
    "* Em que x = [-100, 100] e y = [-200, 200];\n",
    "* Visualiza os resultados e adapta a escala dos eixos para uma melhor visualização de cada polinómio."
   ]
  },
  {
   "cell_type": "code",
   "execution_count": null,
   "metadata": {},
   "outputs": [],
   "source": [
    "import polinomio as pol\n",
    "\n",
    "import matplotlib.pyplot as plt\n",
    "\n",
    "p1=[(2,5)]\n",
    "p2=[(1,2), (-7,0)]\n",
    "p3=[(1,3),(-2,2),(1,0)]\n",
    "\n",
    "x=[i for i in range(-100,101)]\n",
    "y1=[]\n",
    "y2=[]\n",
    "y3=[]\n",
    "for i in x:\n",
    "    y1.append(pol.calcPolinomio(p1,i))\n",
    "    y2.append(pol.calcPolinomio(p2,i))\n",
    "    y3.append(pol.calcPolinomio(p3,i))\n",
    "\n",
    "plt.ylim(-200,200)\n",
    "plt.xlim(-100,100)\n",
    "plt.plot(x,y1)\n",
    "plt.plot(x,y2)\n",
    "plt.plot(x,y3)\n",
    "plt.show()"
   ]
  },
  {
   "cell_type": "markdown",
   "metadata": {},
   "source": [
    "## Gráficos de barras\n",
    "### Barras 1"
   ]
  },
  {
   "cell_type": "code",
   "execution_count": null,
   "metadata": {},
   "outputs": [],
   "source": [
    "import matplotlib.pyplot as plt\n",
    " \n",
    "# x-coordinates of left sides of bars\n",
    "left = [1, 2, 3, 4, 5]\n",
    " \n",
    "# heights of bars\n",
    "height = [6, 4, 8, 12, 5]\n",
    " \n",
    "# labels for bars\n",
    "tick_label = ['cebolas', 'maçãs', 'pêras', 'batatas', 'cenouras']\n",
    " \n",
    "# plotting a bar chart\n",
    "plt.bar(left, height, tick_label = tick_label,\n",
    "        width = 0.8, color = ['red', 'green'])\n",
    " \n",
    "# naming the x-axis\n",
    "plt.xlabel('Frutas e legumes')\n",
    "# naming the y-axis\n",
    "plt.ylabel('Quantidade')\n",
    "# plot title\n",
    "plt.title('O meu stock de verdes')\n",
    " \n",
    "# function to show the plot\n",
    "plt.show()"
   ]
  },
  {
   "cell_type": "markdown",
   "metadata": {},
   "source": [
    "### Exercício 4: estatísticas de alunos\n",
    "Vamos usar o módulo Pandas para ler o dataset de alunos disponível no site da UC.\n",
    "\n",
    "__Instalação:__ `pip install pandas`\n",
    "\n",
    "__A fazer:__ Depois de analisares os exemplos seguintes, constrói um programa que desenha um gráfico de barras com os alunos de cada curso."
   ]
  },
  {
   "cell_type": "code",
   "execution_count": 35,
   "metadata": {},
   "outputs": [
    {
     "name": "stdout",
     "output_type": "stream",
     "text": [
      "   id_aluno                       nome    curso  tpc1  tpc2  tpc3  tpc4\n",
      "0        a1     Aysha Melanie Gilberto      LEI    12     8    19     8\n",
      "1        a2      Igor André Cantanhede   ENGFIS    12    16    18    20\n",
      "2        a3           Laurénio Narciso   ENGFIS     8    14    15    14\n",
      "3        a4            Jasnoor Casegas      LCC    14    20    17    11\n",
      "4        a5           Tawseef Rebouças  ENGBIOM    13    14    13    17\n",
      "..      ...                        ...      ...   ...   ...   ...   ...\n",
      "95      a96              Anaïs Sintra      LCC    19    19    12     9\n",
      "96      a97            Salvador Banaca      LCC    12     9    20    12\n",
      "97      a98  Guilherme Matias Almeirão   ENGFIS    14     9    12    11\n",
      "98      a99          Xavier Luís Bulha   ENGFIS    17    13     8    10\n",
      "99     a100                Tude Searas      LEI    20    17     8    14\n",
      "\n",
      "[100 rows x 7 columns]\n"
     ]
    }
   ],
   "source": [
    "import pandas as pd\n",
    "alunos = pd.read_csv(\"../programas/plot/alunos.csv\")\n",
    "print(alunos)"
   ]
  },
  {
   "cell_type": "code",
   "execution_count": null,
   "metadata": {},
   "outputs": [],
   "source": [
    "alunos[\"tpc1\"].mean()"
   ]
  },
  {
   "cell_type": "code",
   "execution_count": null,
   "metadata": {},
   "outputs": [],
   "source": [
    "alunos[[\"tpc1\", \"tpc2\", \"tpc3\",\"tpc4\"]].mean()"
   ]
  },
  {
   "cell_type": "code",
   "execution_count": null,
   "metadata": {},
   "outputs": [],
   "source": [
    "alunos[[\"tpc1\", \"tpc2\", \"tpc3\",\"tpc4\"]].describe()"
   ]
  },
  {
   "cell_type": "code",
   "execution_count": null,
   "metadata": {},
   "outputs": [],
   "source": [
    "alunos[[\"curso\", \"tpc1\"]].groupby(\"curso\").mean()"
   ]
  },
  {
   "cell_type": "code",
   "execution_count": null,
   "metadata": {},
   "outputs": [],
   "source": [
    "cont = alunos[\"curso\"].value_counts()\n",
    "print(cont.get('ENGFIS'))"
   ]
  },
  {
   "cell_type": "code",
   "execution_count": null,
   "metadata": {},
   "outputs": [],
   "source": [
    "cursos = alunos[\"curso\"].unique()\n",
    "print(cursos)"
   ]
  },
  {
   "cell_type": "code",
   "execution_count": 41,
   "metadata": {},
   "outputs": [
    {
     "data": {
      "image/png": "[encoded data removed]",
      "text/plain": [
       "<Figure size 432x288 with 1 Axes>"
      ]
     },
     "metadata": {
      "needs_background": "light"
     },
     "output_type": "display_data"
    }
   ],
   "source": [
    "cont = alunos[\"curso\"].value_counts().plot(kind='bar')"
   ]
  },
  {
   "cell_type": "code",
   "execution_count": 42,
   "metadata": {},
   "outputs": [
    {
     "data": {
      "image/png": "[encoded data removed]",
      "text/plain": [
       "<Figure size 432x288 with 1 Axes>"
      ]
     },
     "metadata": {},
     "output_type": "display_data"
    }
   ],
   "source": [
    "cont2 = alunos[\"curso\"].value_counts().plot(kind='pie')"
   ]
  },
  {
   "cell_type": "markdown",
   "metadata": {},
   "source": [
    "## Gráficos em forma de tarte"
   ]
  },
  {
   "cell_type": "code",
   "execution_count": 34,
   "metadata": {},
   "outputs": [
    {
     "data": {
      "image/png": "[encoded data removed]",
      "text/plain": [
       "<Figure size 432x288 with 1 Axes>"
      ]
     },
     "metadata": {},
     "output_type": "display_data"
    }
   ],
   "source": [
    "import matplotlib.pyplot as plt\n",
    " \n",
    "# defining labels\n",
    "activities = ['eat', 'sleep', 'work', 'play']\n",
    " \n",
    "# portion covered by each label\n",
    "slices = [3, 7, 8, 6]\n",
    " \n",
    "# color for each label\n",
    "colors = ['r', 'y', 'g', 'b']\n",
    " \n",
    "# plotting the pie chart\n",
    "plt.pie(slices, labels = activities, colors=colors,\n",
    "        startangle=90, shadow = True, explode = (0, 0, 0.1, 0),\n",
    "        radius = 1.2, autopct = '%1.1f%%')\n",
    " \n",
    "# plotting legend\n",
    "plt.legend()\n",
    " \n",
    "# showing the plot\n",
    "plt.show()"
   ]
  }
 ],
 "metadata": {
  "interpreter": {
   "hash": "aee8b7b246df8f9039afb4144a1f6fd8d2ca17a180786b69acc140d282b71a49"
  },
  "kernelspec": {
   "display_name": "Python 3",
   "language": "python",
   "name": "python3"
  },
  "language_info": {
   "codemirror_mode": {
    "name": "ipython",
    "version": 3
   },
   "file_extension": ".py",
   "mimetype": "text/x-python",
   "name": "python",
   "nbconvert_exporter": "python",
   "pygments_lexer": "ipython3",
   "version": "3.8.8"
  }
 },
 "nbformat": 4,
 "nbformat_minor": 2
}
