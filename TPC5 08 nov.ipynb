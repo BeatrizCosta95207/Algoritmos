{
 "cells": [
  {
   "cell_type": "markdown",
   "id": "0a2f94f0",
   "metadata": {},
   "source": [
    "\n",
    "\n",
    "# TPC 5\n"
   ]
  },
  {
   "cell_type": "markdown",
   "id": "d19bc97e",
   "metadata": {},
   "source": [
    "## UC de Algorítmos e Técnicas de Programação 2021/22"
   ]
  },
  {
   "cell_type": "markdown",
   "id": "62ccb1b4",
   "metadata": {},
   "source": [
    "* __Data início:__2021-11-08\n",
    "* __Data fim:__ 2021-11-\n",
    "* __Supervisor:__José Carlos Leite Ramalho, https://www.di.uminho.pt/~jcr/the-juris.php\n",
    "* __Autor:__ Beatriz Lima Costa, a95207"
   ]
  },
  {
   "cell_type": "markdown",
   "id": "3aff32c4",
   "metadata": {},
   "source": [
    "\n",
    "# Resumo\n",
    "\n",
    "\n",
    "* O quinto trabalho de casa corresponde à __criação de uma aplicação__ à semelhança das propostas nos dois trabalhos anteriores, mas desta vez envolvendo __polinómios__. \n",
    "\n",
    "* A aplicação irá permitir ao utilizador escolher de entre as diversas opções disponíveis, que são: a criação de polinómios, através da função __criarPolinomio__, calcular o valor de um polinómio, para um dado x que o utilizador introduza, através da função __calcPolinomio__ e dispor esses valores para um intervalo de valores de x, através da __calcTabela__. Por fim também poderá simplificar o polinómio, __simplificar__ e derivá-lo, __derivar__.\n",
    "\n",
    "* Foi definido que o __modelo seria um lista de tuplos em que cada tuplo é constituido pelo coeficiente e expoente__:\n",
    "\n",
    " Exemplos:\n",
    "        p1=x^2 + 2\n",
    "        p2=7x^3 + 4x - 21\n",
    "        \n",
    "        p1=[(1,2),(2,0)]\n",
    "        p2=[(7,3),(4,1),(-21,0)]"
   ]
  },
  {
   "cell_type": "code",
   "execution_count": 5,
   "id": "e0723970",
   "metadata": {},
   "outputs": [],
   "source": [
    "def criarTermo():\n",
    "    coef=int(input(\"Introduza o coeficiente:\"))\n",
    "    exp=int(input(\"Introduza o expoente:\"))\n",
    "    return (coef, exp)\n",
    "    \n",
    "def criarPolinomio():\n",
    "    p=[]\n",
    "    ntermos=int(input(\"Introduza o número de termos do polinómio: \"))\n",
    "    while i<ntermos:\n",
    "        a=criarTermo()\n",
    "        p.append(a)\n",
    "        i=i+1\n",
    "    return p\n",
    "def inserirTermo(p):\n",
    "    t=criarTermo()\n",
    "    p.append(t)\n",
    "    return p\n",
    "\n",
    "     \n"
   ]
  },
  {
   "cell_type": "code",
   "execution_count": 4,
   "id": "f3fce423",
   "metadata": {},
   "outputs": [],
   "source": [
    "def verTermo(t):\n",
    "    c , e =t\n",
    "    if e==0: \n",
    "        return str(c)\n",
    "    else:\n",
    "        return str(c)+ \"x^\" + str(e)\n",
    "\n",
    "def verPolinomio(p):\n",
    "    res= \" \"\n",
    "    for t in p:\n",
    "        if res== \" \":\n",
    "            res= verTermo(t)\n",
    "        else:\n",
    "            res= res + \"+\" + verTermo(t)\n",
    "    print(res)\n"
   ]
  },
  {
   "cell_type": "code",
   "execution_count": 3,
   "id": "3b3bb761",
   "metadata": {},
   "outputs": [],
   "source": [
    "def calcPolinomio(p,x):\n",
    "    res=0\n",
    "    for t in p:\n",
    "        c , e=t\n",
    "        res=res+ c*x**e\n",
    "    return res\n",
    "\n",
    "def tabela(p,n):\n",
    "    for x in range(n):\n",
    "        print( str(x), \"  \", calcPolinomio(p,x))\n",
    "        "
   ]
  },
  {
   "cell_type": "code",
   "execution_count": 2,
   "id": "822fdc1e",
   "metadata": {},
   "outputs": [],
   "source": [
    "def chaveOrd(t):\n",
    "    _,e=t\n",
    "    return e\n",
    "        \n",
    "def ordenarPol(p):\n",
    "    p.sort(reverse=True, key=chaveOrd)\n",
    "\n",
    "           \n",
    "def simplificar(p):\n",
    "    \n",
    "    expoente=p[0][1]\n",
    "    coeficiente=p[0][0]\n",
    "    L=[]\n",
    "    i=0\n",
    "    for j in range(len(p)):\n",
    "        for i in range(j):\n",
    "                    \n",
    "            while expoente== p[j][1]:\n",
    "                    coeficiente= coeficiente + p[j][0]\n",
    "                    expoente=p[j][1]\n",
    "                    j=j+1\n",
    "                    L.append((coeficiente, expoente))\n",
    "            if expoente!= p[j][1]:\n",
    "                    coeficiente= p[j][0]\n",
    "                    expoente=p[j][1]\n",
    "                    j=j+1\n",
    "            if j== (len(p)-2):\n",
    "                    coeficiente= p[j][0]\n",
    "                    expoente=p[j][1]\n",
    "                    if expoente== L[len(L)-1][1]:\n",
    "                        coeficiente= p[j][0]+ L[len(L)-1][0]\n",
    "                        expoente=p[j][1]+ L[len(L)-1][1]\n",
    "                        L.pop(len(L)-1)\n",
    "                        L.append((coeficiente,expoente))\n",
    "                    else:\n",
    "                        coeficiente= p[j][0]\n",
    "                        expoente=p[j][1]\n",
    "                        L.append((coeficiente,expoente))\n",
    "                        "
   ]
  },
  {
   "cell_type": "code",
   "execution_count": 1,
   "id": "09fa5ab7",
   "metadata": {},
   "outputs": [],
   "source": [
    "def derivar(p):\n",
    "    res=[]\n",
    "    for (c,e) in p:\n",
    "        res.append((c*e, e-1))\n",
    "    return res        "
   ]
  },
  {
   "cell_type": "code",
   "execution_count": 6,
   "id": "8a1a353c",
   "metadata": {},
   "outputs": [],
   "source": [
    "def Menu():\n",
    " print(\"\"\"Polinómios:\n",
    "          \n",
    "          (1)Criar Polinómio;\n",
    "          (2)Calcular Polinómio;\n",
    "          (3)Calcular Tabela;\n",
    "          (4)Simplificar Polinómio;\n",
    "          (5)Calcular a derivada;\n",
    "          ...\n",
    "          (0)Sair.\"\"\")\n",
    "        "
   ]
  },
  {
   "cell_type": "code",
   "execution_count": null,
   "id": "b1b68ec7",
   "metadata": {},
   "outputs": [
    {
     "name": "stdout",
     "output_type": "stream",
     "text": [
      "Polinómios:\n",
      "          \n",
      "          (1)Criar Polinómio;\n",
      "          (2)Calcular Polinómio;\n",
      "          (3)Calcular Tabela;\n",
      "          (4)Simplificar Polinómio;\n",
      "          (5)Calcular a derivada;\n",
      "          ...\n",
      "          (0)Sair.\n"
     ]
    }
   ],
   "source": [
    "a=-1\n",
    "while a!= \"0\":\n",
    "    Menu()\n",
    "    a=input(\"Qual a sua opção?\")\n",
    "    if a==\"1\":\n",
    "        f=criarPolinómio()\n",
    "        verPolinomio(f)\n",
    "    elif a==\"2\":\n",
    "        x=int(input(\"Introduza o valor de x:\"))\n",
    "        soma=calcPolinomio(f,x)\n",
    "        print(soma)\n",
    "    elif a==\"3\":\n",
    "        x=int(input(\"Introduza o número de linhas da tabela:\"))\n",
    "        tabela(f,x)    \n",
    "    elif a==\"4\":\n",
    "        b=simplificar(f)\n",
    "        verPolinomio(f)\n",
    "    elif a==\"5\":\n",
    "        d=derivar(f)\n",
    "        print(d)\n",
    "    elif a== \"0\":\n",
    "        print(\"A sair...\")\n",
    "    else:\n",
    "        print(\"Opção inválida!\")    \n",
    "      "
   ]
  }
 ],
 "metadata": {
  "kernelspec": {
   "display_name": "Python 3",
   "language": "python",
   "name": "python3"
  },
  "language_info": {
   "codemirror_mode": {
    "name": "ipython",
    "version": 3
   },
   "file_extension": ".py",
   "mimetype": "text/x-python",
   "name": "python",
   "nbconvert_exporter": "python",
   "pygments_lexer": "ipython3",
   "version": "3.8.8"
  }
 },
 "nbformat": 4,
 "nbformat_minor": 5
}
