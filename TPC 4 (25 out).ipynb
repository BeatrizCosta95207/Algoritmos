{
 "cells": [
  {
   "cell_type": "markdown",
   "id": "47b643e7",
   "metadata": {},
   "source": [
    "\n",
    "\n",
    "# TPC4\n"
   ]
  },
  {
   "cell_type": "markdown",
   "id": "1914f1d8",
   "metadata": {},
   "source": [
    "## UC de Algorítmos e Técnicas de Programação 2021/22"
   ]
  },
  {
   "cell_type": "markdown",
   "id": "9991a760",
   "metadata": {},
   "source": [
    "* __Data início:__2021-10-25\n",
    "* __Data fim:__ 2021-10-26\n",
    "* __Supervisor:__José Carlos Leite Ramalho, https://www.di.uminho.pt/~jcr/the-juris.php\n",
    "* __Autor:__ Beatriz Lima Costa, a95207"
   ]
  },
  {
   "cell_type": "markdown",
   "id": "28926fef",
   "metadata": {},
   "source": [
    "\n",
    "\n",
    "## Resumo\n",
    "\n",
    "O quarto trabalho proposto consiste na __criação de diversas funções que permitam fazer operações com frações__ e também __criar um menu que permita fazer algumas dessas operações com listas de frações__ que podem ser geradas manualmente ou aleatóriamente.\n",
    "\n",
    "Uma vez que as frações são constituídas por duas partes, numerador e denominador foi necessário definir o __modelo de dados__. Deste modo para representar frações foram usados tuplos do tipo __Tuplo=( numerador, denominador)__. Foi criada uma fração que permitisse imprimir a fração com o aspeto usual-__verfunção__. Para realizar a __simplificação das frações__ foi necessário criar a função que encontrasse o máximo divisor comum do numerador e denominador. \n",
    "\n",
    "As funções que permitem realizar as __operações da soma, subtração, divisão, multiplicação e potenciação__ são todas simples e apenas se baseiam nas regras matemáticas.\n",
    "\n",
    "Para efetuar as operações com os elementos das listas é necessário percorrê-las. __Para percorrer as listas__ utilizei __ciclos for e variáveis acumuladoras__ que no caso das funções de __operações com listas deve ser o tuplo (0,1)__.\n",
    "\n",
    "O menu irá aparecer sucessivamente após todas as operações escolhidas, até ser introduzido o 0 que permite sair da aplição das frações, à semelhança do que se passou no TPC3.\n",
    "\n",
    "\n"
   ]
  },
  {
   "cell_type": "code",
   "execution_count": null,
   "id": "0b625b8c",
   "metadata": {},
   "outputs": [],
   "source": [
    "def criarFração(numerador, denominador):\n",
    "    return(numerador, denominador)\n",
    "\n",
    "def verFração(f):\n",
    "    print(str(f[0])+\"/\"+str(f[1]))"
   ]
  },
  {
   "cell_type": "code",
   "execution_count": null,
   "id": "ca75705a",
   "metadata": {},
   "outputs": [],
   "source": [
    "def mdc(a,b):\n",
    "    resto = None\n",
    "    while resto != 0:\n",
    "        resto = a % b\n",
    "        a  = b\n",
    "        b  = resto\n",
    "\n",
    "    return a\n",
    "\n",
    "def simplificarFração(f):\n",
    "    num, den= f\n",
    "    a=mdc(num,den)\n",
    "    return(num/a, den/a)"
   ]
  },
  {
   "cell_type": "code",
   "execution_count": null,
   "id": "250cfdf8",
   "metadata": {},
   "outputs": [],
   "source": [
    "def somaFrações(f1,f2):\n",
    "    n=f1[0]*f2[1]+f2[0]*f1[1]\n",
    "    d=f1[1]*f2[1]\n",
    "    return simplificarFração((n,d))\n",
    "\n",
    "def subtrairFrações(f1,f2):\n",
    "    n=f1[0]*f2[1]-f2[0]*f1[1]\n",
    "    d=f1[1]*f2[1]\n",
    "    return simplificarFração((n,d))\n",
    "\n",
    "def multiplicarFração(f1,f2):\n",
    "    n=f1[0]*f2[0]\n",
    "    d=f1[1]*f2[1]\n",
    "    return simplificarFração((n,d))\n",
    "\n",
    "def divisãoFração(f1,f2):\n",
    "    n=f1[0]*f2[1]\n",
    "    d=f1[1]*f2[0]\n",
    "    return simplificarFração((n,d))\n",
    "\n",
    "def potênciaFração (f,e):\n",
    "    if e<0:\n",
    "        i=-e\n",
    "        num, den= f\n",
    "        a=(den**i,num**i)\n",
    "        return simplificarFração(a)\n",
    "    elif e==0:\n",
    "        return (1,1)\n",
    "    else:\n",
    "        num, den= f\n",
    "        a=(num**e,den**e)\n",
    "        return simplificarFração(a)\n"
   ]
  },
  {
   "cell_type": "code",
   "execution_count": null,
   "id": "b1045f28",
   "metadata": {},
   "outputs": [],
   "source": [
    "def criarListaA():\n",
    "    lista=[]\n",
    "    from random import randint\n",
    "    n=int(input(\"Quantas frações terá a lista?\"))\n",
    "    for i in range(n):\n",
    "        num=randint(0, 100)\n",
    "        den=randint(1,100)\n",
    "        lista.append((num,den))\n",
    "    return lista\n",
    " \n",
    "def criarListaM():\n",
    "    i=0\n",
    "    lista=[]\n",
    "    n=int(input(\"Quantas frações terá a lista?\"))\n",
    "    for i in range(n):\n",
    "        num=int(input(\"Introduza o numerador: \"))\n",
    "        den=int(input(\"Introduza o denominador: \"))\n",
    "        lista.append((num,den))\n",
    "    return lista"
   ]
  },
  {
   "cell_type": "code",
   "execution_count": null,
   "id": "963b1191",
   "metadata": {},
   "outputs": [],
   "source": [
    "def simplificarLista(lis):\n",
    "    lis2=[]\n",
    "    for f in lis:\n",
    "        num , den=f\n",
    "        a=mdc(num,den)\n",
    "        lis2.append((num/a,den/a))\n",
    "    return lis2"
   ]
  },
  {
   "cell_type": "code",
   "execution_count": null,
   "id": "d76dfb10",
   "metadata": {},
   "outputs": [],
   "source": [
    "def somarLista(lis):\n",
    "    s=(0,1)\n",
    "    for f in lis:\n",
    "        s=somaFrações(s, f)\n",
    "    return simplificarFração(s)    \n",
    "\n",
    "def subtrairLista(lis):\n",
    "    s=(0,1)\n",
    "    f=0\n",
    "    while f<len(lis):\n",
    "        s=s+ subtrairFrações(lis[f],lis[f+1])\n",
    "        f= f+2\n",
    "    return s\n",
    "        "
   ]
  },
  {
   "cell_type": "code",
   "execution_count": null,
   "id": "39a2a3a6",
   "metadata": {},
   "outputs": [],
   "source": [
    "def maiorFração(lis):\n",
    "    La=tuple(lis)\n",
    "    for i in range(len(lis)):\n",
    "        num, den= lis[i]\n",
    "        a=num/den\n",
    "        lis.insert(i,a)\n",
    "        lis.remove(lis[i+1])\n",
    "   \n",
    "    maior=lis[0]\n",
    "    for f in lis:\n",
    "        if maior<f:\n",
    "            maior=f\n",
    "        else:\n",
    "            maior=maior \n",
    "    return La[lis.index(maior)]\n",
    "\n",
    "\n",
    "def menorFração(lis):\n",
    "    La=tuple(lis)\n",
    "    for i in range(len(lis)):\n",
    "        num, den= lis[i]\n",
    "        a=num/den\n",
    "        lis.insert(i,a)\n",
    "        lis.remove(lis[i+1])\n",
    "   \n",
    "    menor=lis[0]\n",
    "    for f in lis:\n",
    "        if menor<f:\n",
    "            menor=f\n",
    "        else:\n",
    "            menor=menor \n",
    "    return La[lis.index(menor)]\n"
   ]
  },
  {
   "cell_type": "code",
   "execution_count": null,
   "id": "0151b05e",
   "metadata": {},
   "outputs": [],
   "source": [
    "def escolha():\n",
    "    a=-1\n",
    "    while a!= \"0\":\n",
    "        menu()\n",
    "        a=input(\"Qual a sua opção?\")\n",
    "        if a== \"1\":\n",
    "            lista=criarListaA()\n",
    "            print(lista)            \n",
    "        elif a==\"2\":\n",
    "            lista=criarListaM()\n",
    "            print(lista)               \n",
    "        elif a == \"3\":\n",
    "            listas=simplificarLista(lista)\n",
    "            print(listas)            \n",
    "        elif a == \"4\":\n",
    "            soma=somarLista(lista)\n",
    "            verFração(soma)            \n",
    "        elif a== \"5\":\n",
    "            sub=subtrairLista(lista)\n",
    "            verFração(sub)       \n",
    "        elif a== \"6\":\n",
    "            M=maiorFração(lista)\n",
    "            verFração(M)\n",
    "        elif a== \"6\":\n",
    "            Mm=menorFração(lista)\n",
    "            verFração(Mm)\n",
    "        elif a== \"0\":\n",
    "            print(\"A sair...\")\n",
    "        else:\n",
    "            print(\"Opção inválida!\")    \n",
    "    "
   ]
  }
 ],
 "metadata": {
  "kernelspec": {
   "display_name": "Python 3",
   "language": "python",
   "name": "python3"
  },
  "language_info": {
   "codemirror_mode": {
    "name": "ipython",
    "version": 3
   },
   "file_extension": ".py",
   "mimetype": "text/x-python",
   "name": "python",
   "nbconvert_exporter": "python",
   "pygments_lexer": "ipython3",
   "version": "3.8.8"
  }
 },
 "nbformat": 4,
 "nbformat_minor": 5
}
