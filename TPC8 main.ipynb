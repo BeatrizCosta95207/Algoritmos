{
 "cells": [
  {
   "cell_type": "markdown",
   "id": "e9b6977f",
   "metadata": {},
   "source": [
    "# TPC 8"
   ]
  },
  {
   "cell_type": "markdown",
   "id": "ba1b3b8c",
   "metadata": {},
   "source": [
    "## UC de Algorítmos e Técnicas de Programação 2021/22"
   ]
  },
  {
   "cell_type": "markdown",
   "id": "1d2006b1",
   "metadata": {},
   "source": [
    "* __Data início:__2021-12-05\n",
    "* __Data fim:__ 2021-12-05\n",
    "* __Supervisor:__José Carlos Leite Ramalho, https://www.di.uminho.pt/~jcr/the-juris.php\n",
    "* __Autor:__ Beatriz Lima Costa, a95207"
   ]
  },
  {
   "cell_type": "markdown",
   "id": "3fcb2601",
   "metadata": {},
   "source": [
    "## Resumo\n",
    "\n",
    "* O TPC 8 consiste na criação de um módulo que (modTPC8.py) que permita ler e processar datasets e criar dados estatísticos relativamente à informação neles contida.  A segunda parte do trabalho consistia na  criação de uma interface que permita realizar as funções desenvolvidas no módulo, que imprima os resultados e que permita ao utilizador alterar os dados."
   ]
  },
  {
   "cell_type": "code",
   "execution_count": 18,
   "id": "33ba5952",
   "metadata": {},
   "outputs": [
    {
     "ename": "ModuleNotFoundError",
     "evalue": "No module named 'modulo8'",
     "output_type": "error",
     "traceback": [
      "\u001b[1;31m---------------------------------------------------------------------------\u001b[0m",
      "\u001b[1;31mModuleNotFoundError\u001b[0m                       Traceback (most recent call last)",
      "\u001b[1;32m<ipython-input-18-0f7da0d8847b>\u001b[0m in \u001b[0;36m<module>\u001b[1;34m\u001b[0m\n\u001b[1;32m----> 1\u001b[1;33m \u001b[1;32mimport\u001b[0m \u001b[0mmodulo8\u001b[0m\u001b[1;33m.\u001b[0m\u001b[0mpy\u001b[0m \u001b[1;32mas\u001b[0m \u001b[0mmod\u001b[0m\u001b[1;33m\u001b[0m\u001b[1;33m\u001b[0m\u001b[0m\n\u001b[0m\u001b[0;32m      2\u001b[0m \u001b[1;33m\u001b[0m\u001b[0m\n\u001b[0;32m      3\u001b[0m \u001b[0mmyBD\u001b[0m\u001b[1;33m=\u001b[0m\u001b[1;33m[\u001b[0m\u001b[1;33m]\u001b[0m\u001b[1;33m\u001b[0m\u001b[1;33m\u001b[0m\u001b[0m\n\u001b[0;32m      4\u001b[0m \u001b[0mmyBD\u001b[0m\u001b[1;33m=\u001b[0m\u001b[0mmod\u001b[0m\u001b[1;33m.\u001b[0m\u001b[0mlerDataset\u001b[0m\u001b[1;33m(\u001b[0m\u001b[1;34m\"../Desktop/ emd.csv\"\u001b[0m\u001b[1;33m)\u001b[0m\u001b[1;33m\u001b[0m\u001b[1;33m\u001b[0m\u001b[0m\n\u001b[0;32m      5\u001b[0m \u001b[1;33m\u001b[0m\u001b[0m\n",
      "\u001b[1;31mModuleNotFoundError\u001b[0m: No module named 'modulo8'"
     ]
    }
   ],
   "source": [
    "import modulo8.py as mod\n",
    "\n",
    "myBD=[]\n",
    "myBD=mod.lerDataset(\"../Desktop/ emd.csv\")\n"
   ]
  },
  {
   "cell_type": "code",
   "execution_count": null,
   "id": "33fa2785",
   "metadata": {},
   "outputs": [],
   "source": [
    "import PySimpleGUI as sg\n",
    "import modTPC8 as mod\n",
    "\n",
    "\n",
    "menu_list_column = [\n",
    "    [sg.Button(\"Imprimir BD\")],\n",
    "    [sg.Button(\"Carregar BD\")],\n",
    "    [sg.Button(\"Listar BD\")],\n",
    "    [sg.Button(\"Inserir registo\")],\n",
    "    [a.g.Button(\"Distribuição\")]\n",
    "    [sg.Button(\"Sair\")]\n",
    "]\n",
    "\n",
    "data_viewer_column = [\n",
    "    [sg.Text(\"Painel de Dados\")],\n",
    "    [sg.Text(size=(40, 1), key=\"-Dados-\")],\n",
    "]\n",
    "\n",
    "layout = [\n",
    "    [\n",
    "        sg.Column(menu_list_column),\n",
    "        sg.VSeperator(),\n",
    "        sg.Column(data_viewer_column),\n",
    "    ]\n",
    "]\n",
    "\n",
    "window = sg.Window(\"Sample App\", layout)\n",
    "\n",
    "# Run the Event Loop\n",
    "stop = False\n",
    "while not stop:\n",
    "    event, values = window.read()\n",
    "    if event == \"Sair\" or event == sg.WIN_CLOSED:\n",
    "        stop = True\n",
    "    elif event == \"Limpar BD\":\n",
    "        myBD.clear()\n",
    "        window[\"-Dados-\"].update()\n",
    "    \n",
    "    elif event == \"Carregar BD\":\n",
    "        my.BD=mod.lerDataset(\"emd.cvs\")\n",
    "        window[\"-Dados-\"].update()\n",
    "    \n",
    "    elif event == \"Gravar BD\":\n",
    "        guardarBD(myBD, fnome)\n",
    "        window[\"-Dados-\"].update()\n",
    "    \n",
    "    elif event == \"Listar BD\":\n",
    "        listarDataset(myBD)\n",
    "        window[\"-Dados-\"].update()\n",
    "    \n",
    "    \n",
    "\n",
    "       \n",
    "\n",
    "window.close()\n",
    "\n",
    "\n"
   ]
  }
 ],
 "metadata": {
  "kernelspec": {
   "display_name": "Python 3",
   "language": "python",
   "name": "python3"
  },
  "language_info": {
   "codemirror_mode": {
    "name": "ipython",
    "version": 3
   },
   "file_extension": ".py",
   "mimetype": "text/x-python",
   "name": "python",
   "nbconvert_exporter": "python",
   "pygments_lexer": "ipython3",
   "version": "3.8.8"
  }
 },
 "nbformat": 4,
 "nbformat_minor": 5
}
