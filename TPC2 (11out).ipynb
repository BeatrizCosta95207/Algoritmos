{
 "cells": [
  {
   "cell_type": "markdown",
   "id": "2bda44af",
   "metadata": {},
   "source": [
    "# TPC2 \n",
    "\n",
    "\n",
    "## UC de Algorítmos e Técnicas de Programação 2021/22\n",
    "\n",
    "\n",
    "\n",
    "##### __Data início__:2021-10-13\n",
    "##### __Data fim__: 2021-10-13\n",
    "##### __Supervisor__:José Carlos Leite Ramalho, https://www.di.uminho.pt/~jcr/the-juris.php\n",
    "##### __Autor__: Beatriz Lima Costa, a95207\n"
   ]
  },
  {
   "cell_type": "markdown",
   "id": "7461d3fa",
   "metadata": {},
   "source": [
    "\n",
    "\n",
    "## Resumo:\n",
    "\n",
    "\n",
    "    O segundo trabalho que foi proposto consiste na  implementação de um jogo  que permita ao utilizador indicar sucessivamente se o número no qual está a pensar é inferior ou superior àquele que é apresentado pelo computador.\n",
    "    Sabe-se que após 7 tentativas o computador encontra o número de 0 a 100 escolhido pelo utilizador, uma vez que 2^7=128. Deste modo, utilizei um ciclo while, que permite dar essas 7 tentativas ao computador. \n",
    "    "
   ]
  },
  {
   "cell_type": "code",
   "execution_count": null,
   "id": "f9f7c15f",
   "metadata": {},
   "outputs": [],
   "source": [
    "def adivinhar():\n",
    "     i=1\n",
    "     x=50\n",
    "     print(\"Pense num número de 0 a 100\")\n",
    "     while i<8:\n",
    "        a=input(\"O nº em que pensou é igual a %s (introduza ig), maior (intoduza M), ou menor?(introduza m)\" %(math.ceil(x)))\n",
    "        if a==\"M\":\n",
    "            x=x+(50/(2**i))\n",
    "            \n",
    "            i=i+1\n",
    "        elif a==\"m\":\n",
    "             x=x-(50/(2**i))\n",
    "             \n",
    "             i=i+1\n",
    "        elif a==\"ig\":\n",
    "            print(\"Número encontrado!\")\n",
    "            return\n",
    "        else:\n",
    "            print(\"introduziu uma letra incorreta!\")\n",
    "            i=i+1\n",
    "      \n",
    "ad=adivinhar()"
   ]
  }
 ],
 "metadata": {
  "kernelspec": {
   "display_name": "Python 3",
   "language": "python",
   "name": "python3"
  },
  "language_info": {
   "codemirror_mode": {
    "name": "ipython",
    "version": 3
   },
   "file_extension": ".py",
   "mimetype": "text/x-python",
   "name": "python",
   "nbconvert_exporter": "python",
   "pygments_lexer": "ipython3",
   "version": "3.8.8"
  }
 },
 "nbformat": 4,
 "nbformat_minor": 5
}
