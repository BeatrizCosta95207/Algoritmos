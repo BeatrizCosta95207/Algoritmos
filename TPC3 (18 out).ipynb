{
 "cells": [
  {
   "cell_type": "markdown",
   "id": "43314d11",
   "metadata": {},
   "source": [
    "\n",
    "\n",
    "\n",
    "\n",
    "# TPC 3\n",
    "\n",
    "\n",
    "## UC de Algorítmos e Técnicas de Programação 2021/22\n",
    "\n",
    "* __Data início:__2021-10-19\n",
    "* __Data fim:__ 2021-10-24\n",
    "* __Supervisor:__José Carlos Leite Ramalho, https://www.di.uminho.pt/~jcr/the-juris.php\n",
    "* __Autor:__ Beatriz Lima Costa, a95207\n"
   ]
  },
  {
   "cell_type": "markdown",
   "id": "771524cd",
   "metadata": {},
   "source": [
    "\n",
    "## Resumo\n",
    "\n",
    "   Foi proposta a implementação da função bubbleSort e a sua incorporação num menu que possibilita a execução de diversas funções que envolvem listas. A __função menu__ apenas imprime as diversas opções que serão depois escolhidas pelo utilizador através da __função escolha__. Estão incluídas nas opções criar listas manualmente e aleatóriamente, através das __funções criarListaM e criarListaA__, respetivamente, encontrar o elemento maior através da __função Maior__, funções estas que foram desenvolvidas em aula e também estão incluidas a __função soma__ que permite somar todos os elementos da lista e a __função bubbleSort__ que os ordena, comparando dois de cada vez.\n",
    "    \n",
    "   A função __bubbleSort__ tem um __ciclo while__ que permite percorrer a lista (enquanto que i<len(lista e trocas é menor ou igual a 1). Se o elemento anterior for superior ao posterior aquele toma o valor de x e este o de y e posteriormente o contrário acontece, __permitindo que estes troquem de posições entre si na lista__. Quando tal acontece __é subtraido 1 ao valor de trocas__, permitindo distinguir quando houve trocas e é necessário percorrer a função novamente (uma vez que trocas é menor que 1) e quando não houve(trocas será igual a 1) e portanto a lista ordenada será retornada.\n",
    "   "
   ]
  },
  {
   "cell_type": "code",
   "execution_count": 1,
   "id": "7be1a8f7",
   "metadata": {},
   "outputs": [],
   "source": [
    "def menu():\n",
    "    print(\"\"\"Gestão de Listas de Inteiros:\n",
    "          (1)Introduzir a lista à mão;\n",
    "          (2)Gerar lista com valores aleatórios;\n",
    "          (3)Maior elemnto da lista; \n",
    "          (4)Soma total dos elementos;\n",
    "          (5)Ordenação dos elementos;\n",
    "          ...\n",
    "          (0)Sair.\"\"\")"
   ]
  },
  {
   "cell_type": "code",
   "execution_count": 2,
   "id": "ebb1cd27",
   "metadata": {},
   "outputs": [],
   "source": [
    "def criarListaM():\n",
    "    i=0\n",
    "    L=[]\n",
    "    tamanho=int(input(\"Quantos elemntos terá a lista?\"))\n",
    "    while i<tamanho:\n",
    "        número=int(input(\"Introduza o elemento\"+ (i+1) + \":\"))\n",
    "        L.append(número)\n",
    "    return L"
   ]
  },
  {
   "cell_type": "code",
   "execution_count": 3,
   "id": "9e355198",
   "metadata": {},
   "outputs": [],
   "source": [
    "def criarListaA():\n",
    "    from random import randint\n",
    "    n=int(input(\"Quantos elemntos terá a lista?\"))\n",
    "    for i in range(n):\n",
    "        elem=randint(0, 100)\n",
    "        L.append(elem)\n",
    "    return L\n",
    "    "
   ]
  },
  {
   "cell_type": "code",
   "execution_count": 4,
   "id": "3e6f0a92",
   "metadata": {},
   "outputs": [],
   "source": [
    "def Maior(lista):\n",
    "    i=0\n",
    "    M=L[0]\n",
    "    while i< len(lista):\n",
    "        if lista[i]<lista[i+1]:\n",
    "            M=lista[i+1]\n",
    "            i=i+1\n",
    "        else:\n",
    "            M=lista[i]\n",
    "            i=i+1\n",
    "    return M\n",
    "    print(M)"
   ]
  },
  {
   "cell_type": "code",
   "execution_count": 5,
   "id": "363d5417",
   "metadata": {},
   "outputs": [],
   "source": [
    "def Soma(lista):\n",
    "    total=0\n",
    "    i=0\n",
    "    while i<len(lista):\n",
    "        total=total+[i]\n",
    "        i=i+1\n",
    "    return total\n"
   ]
  },
  {
   "cell_type": "code",
   "execution_count": 6,
   "id": "54e0bece",
   "metadata": {},
   "outputs": [],
   "source": [
    "def bubbleSort(lista):\n",
    "    i=1\n",
    "    trocas=1\n",
    "    while i < len(lista) and trocas<=1:\n",
    "        if lista[i-1]>lista[i]:\n",
    "            x=lista[i-1]\n",
    "            y=lista[i]\n",
    "            lista[i-1]=y\n",
    "            lista[i]=x\n",
    "            trocas=trocas-1\n",
    "        else:\n",
    "            i=i+1\n",
    "    if trocas<1:\n",
    "        return bubbleSort(lista)\n",
    "    return(lista)"
   ]
  },
  {
   "cell_type": "code",
   "execution_count": 9,
   "id": "2b83d6e8",
   "metadata": {},
   "outputs": [],
   "source": [
    "def escolha():\n",
    "    a=-1\n",
    "    while a!= \"0\":\n",
    "        menu()\n",
    "        a=input(\"Qual a sua opção?\")\n",
    "        if a== \"1\":\n",
    "            lis=criarListaM()\n",
    "            print(lista)\n",
    "        elif a==\"2\":\n",
    "            lis=criarListaA()\n",
    "            print(lista)\n",
    "        elif a == \"3\":\n",
    "            maior=Maior(lista)\n",
    "            print(maior)\n",
    "        elif a == \"4\":\n",
    "            soma=Soma(lista)\n",
    "            print(soma)\n",
    "        elif a== \"5\":\n",
    "            ordem=bubbleSort(lista)\n",
    "            print(ordem)\n",
    "        elif a== \"0\":\n",
    "            print(\"A sair...\")\n",
    "        else:\n",
    "            print(\"Opção inválida!\")\n"
   ]
  }
 ],
 "metadata": {
  "kernelspec": {
   "display_name": "Python 3",
   "language": "python",
   "name": "python3"
  },
  "language_info": {
   "codemirror_mode": {
    "name": "ipython",
    "version": 3
   },
   "file_extension": ".py",
   "mimetype": "text/x-python",
   "name": "python",
   "nbconvert_exporter": "python",
   "pygments_lexer": "ipython3",
   "version": "3.8.8"
  }
 },
 "nbformat": 4,
 "nbformat_minor": 5
}
