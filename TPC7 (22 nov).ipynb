{
 "cells": [
  {
   "cell_type": "markdown",
   "metadata": {},
   "source": [
    "# TPC 7"
   ]
  },
  {
   "cell_type": "markdown",
   "metadata": {},
   "source": [
    "## UC de Algorítmos e Técnicas de Programação 2021/22"
   ]
  },
  {
   "cell_type": "markdown",
   "metadata": {},
   "source": [
    "* __Data início:__2021-11-28\n",
    "* __Data fim:__ 2021-11-28\n",
    "* __Supervisor:__José Carlos Leite Ramalho, https://www.di.uminho.pt/~jcr/the-juris.php\n",
    "* __Autor:__ Beatriz Lima Costa, a95207"
   ]
  },
  {
   "cell_type": "markdown",
   "metadata": {},
   "source": [
    "# Resumo\n",
    "\n",
    "* O TPC 7 consiste na realização do guião da aula TP utilizando conhecimentos de __processamento de datasets__, __de representação gráfica__ e todas as técnicas de manipulação de listas, tuplos e dicionários anteriormente dada. Para realizar os exercícios foi necessária a __criação de um modelo__, de forma a passar texto, com duas dimensões para quatro dimensões."
   ]
  },
  {
   "cell_type": "markdown",
   "metadata": {},
   "source": [
    "# Ficha técnica\n",
    "\n",
    "__identificador__: aulaP7;\n",
    "\n",
    "__título__: Processamento de datasets;\n",
    "\n",
    "__data início__: 2021-11-22;\n",
    "\n",
    "__autor__: José Carlos Ramalho, D1513;\n",
    "\n",
    "__resumo__: Nesta aula, irás fazer exercícios sobre leitura de datasets, seu processamento e produção de dados estatísticos."
   ]
  },
  {
   "cell_type": "markdown",
   "metadata": {},
   "source": [
    "## Dataset\n",
    "\n",
    "Para a resolução dos exercícios desta ficha, descarrega o dataset de alunos do site da UC.\n",
    "\n",
    "### Estrutura do dataset\n",
    "O dataset tem a seguinte estrutura:\n",
    "\n",
    "```\n",
    "id_aluno,nome,curso,tpc1,tpc2,tpc3,tpc4\n",
    "\"a1\",\"Aysha Melanie Gilberto\",\"LEI\",12,8,19,8\n",
    "\"a2\",\"Igor André Cantanhede\",\"ENGFIS\",12,16,18,20\n",
    "\"a3\",\"Laurénio Narciso\",\"ENGFIS\",8,14,15,14\n",
    "\"a4\",\"Jasnoor Casegas\",\"LCC\",14,20,17,11\n",
    "\"a5\",\"Tawseef Rebouças\",\"ENGBIOM\",13,14,13,17\n",
    "\"a6\",\"Eryk Clementino\",\"LEI\",10,19,11,14\n",
    "...\n",
    "```"
   ]
  },
  {
   "cell_type": "markdown",
   "metadata": {},
   "source": [
    "## Leitura (exercício 1)\n",
    "\n",
    "Depois de pensares num modelo adequado especifica a função que lê o ficheiro e povoa esse modelo."
   ]
  },
  {
   "cell_type": "markdown",
   "metadata": {},
   "source": [
    "### Definição do modelo\n",
    "\n",
    "O dataset de alunos é uma lista de alunos sobre os quais são dadas as seguintes informações: id, nome, curso e notas de quatro\n",
    "tpcs diferentes. \n",
    "Como a estrutura é rígida é possível utilizar listas, tuplos ou dicionários para definir a base de dados, caso contrário deveriam ser utilizados dicionários.\n",
    "\n",
    "A base de dados será então uma lista de alunos:\n",
    "\n",
    "BDAlunos= [alunos]\n",
    "\n",
    "Em que cada aluno será uma lista com quatro campos:\n",
    "\n",
    "Aluno=[id, nome,curso, [tpc1, tpc2, tpc3,tpc4]]"
   ]
  },
  {
   "cell_type": "code",
   "execution_count": 23,
   "metadata": {},
   "outputs": [
    {
     "name": "stdout",
     "output_type": "stream",
     "text": [
      "[['a1', 'Aysha Melanie Gilberto', 'LEI', [12, 8, 19, 8]], ['a2', 'Igor André Cantanhede', 'ENGFIS', [12, 16, 18, 20]], ['a3', 'Laurénio Narciso', 'ENGFIS', [8, 14, 15, 14]], ['a4', 'Jasnoor Casegas', 'LCC', [14, 20, 17, 11]], ['a5', 'Tawseef Rebouças', 'ENGBIOM', [13, 14, 13, 17]], ['a6', 'Eryk Clementino', 'LEI', [10, 19, 11, 14]], ['a7', 'Ianna Noivo', 'ENGBIOM', [15, 15, 17, 16]], ['a8', 'Ayla Thaissa Reina', 'ENGBIOM', [12, 8, 8, 18]], ['a9', 'Cássia Viviane Coitã', 'ENGFIS', [19, 9, 14, 10]], ['a10', 'Koby Vindima', 'LEI', [9, 14, 20, 13]], ['a11', 'Gustavo Martim Hernandez', 'ENGBIOM', [11, 8, 14, 11]], ['a12', 'Siddarta Beiriz', 'LEI', [17, 10, 16, 16]], ['a13', 'Daniela Patrícia Montes', 'ENGBIOM', [15, 15, 18, 19]], ['a14', 'Kaylla Pessego', 'LCC', [10, 14, 17, 15]], ['a15', 'Bianca Cristina Primitivo', 'ENGBIOM', [16, 9, 18, 10]], ['a16', 'Magna Galhardo', 'ENGFIS', [20, 18, 9, 14]], ['a17', 'Grace Isabel Patriarca', 'LCC', [19, 13, 9, 10]], ['a18', 'Saubhagya Buco', 'LEI', [18, 18, 17, 8]], ['a19', 'Ivo Vicente Boisa', 'ENGBIOM', [14, 10, 18, 13]], ['a20', 'Vivaan Castilhos', 'ENGFIS', [15, 14, 11, 12]], ['a21', 'Layana Camejo', 'ENGFIS', [17, 12, 10, 20]], ['a22', 'Mahdi Menoita', 'ENGFIS', [11, 16, 8, 16]], ['a23', 'Yifan Cortinado', 'LEI', [19, 16, 8, 18]], ['a24', 'Éder Sodré', 'ENGFIS', [17, 13, 14, 12]], ['a25', 'Dhriti Magano', 'ENGFIS', [19, 11, 8, 19]], ['a26', 'Steve Devesa', 'ENGBIOM', [10, 16, 8, 13]], ['a27', 'Lisandro Mariano Picassinos', 'ENGFIS', [13, 10, 16, 10]], ['a28', 'Itiel Quinoy', 'LEI', [18, 18, 8, 9]], ['a29', 'Pranika Reimoo', 'LEI', [12, 16, 15, 13]], ['a30', 'Manaia Viseu', 'ENGFIS', [8, 12, 20, 11]], ['a31', 'Eva Manuel Caio', 'ENGFIS', [12, 16, 20, 16]], ['a32', 'Ariane Sofia Foja', 'LEI', [20, 19, 13, 18]], ['a33', 'Jaime António Pauseiro', 'LCC', [19, 13, 8, 10]], ['a34', 'Tanisha Marzagoo', 'ENGBIOM', [14, 19, 13, 14]], ['a35', 'Siyon Anca', 'LEI', [8, 13, 19, 15]], ['a36', 'Diana Beatriz Boavista', 'LCC', [19, 18, 17, 12]], ['a37', 'Elisiário Saberio', 'ENGFIS', [18, 18, 10, 19]], ['a38', 'Maira Brites', 'ENGFIS', [13, 16, 15, 17]], ['a39', 'Victória Gabriela Incenso', 'LEI', [17, 14, 13, 8]], ['a40', 'Najua Serôdio', 'LCC', [17, 9, 16, 18]], ['a41', 'Lachezar Rosas', 'ENGBIOM', [16, 18, 18, 15]], ['a42', 'Kattleya Trigueiro', 'ENGFIS', [19, 16, 14, 15]], ['a43', 'Tatiana Guiomar Maricoto', 'LCC', [19, 8, 15, 11]], ['a44', 'Mélanie Daniela Bugalhão', 'LCC', [17, 9, 17, 18]], ['a45', 'Imayame Hespanha', 'ENGFIS', [20, 17, 19, 11]], ['a46', 'Yuri Gabriel Baganha', 'LCC', [15, 18, 12, 16]], ['a47', 'Moisés João Cornelio', 'LEI', [20, 16, 19, 17]], ['a48', 'Nazir Assif Trinta', 'LEI', [14, 14, 12, 8]], ['a49', 'Karamjot Arezes', 'LEI', [10, 9, 20, 12]], ['a50', 'Rishit Justa', 'ENGBIOM', [9, 9, 9, 12]], ['a51', 'Iara de Jesus Gonçalo', 'ENGFIS', [14, 8, 12, 14]], ['a52', 'Stepfan Owusu Lercas', 'LEI', [18, 9, 16, 14]], ['a53', 'Abner Umbelina', 'ENGBIOM', [20, 16, 10, 13]], ['a54', 'Dânia Lucy Montelobo', 'LEI', [18, 19, 15, 11]], ['a55', 'Myla Lopez', 'ENGFIS', [9, 17, 12, 20]], ['a56', 'Hakeem Brazão', 'LEI', [18, 18, 13, 20]], ['a57', 'Quinn Aveiro', 'ENGBIOM', [17, 16, 9, 13]], ['a58', 'Etienne Constentino', 'ENGBIOM', [15, 8, 9, 13]], ['a59', 'Emanuel Marcos Delfina', 'LEI', [9, 15, 8, 13]], ['a60', 'Mariana Catarina Ramalheira', 'ENGBIOM', [17, 19, 19, 11]], ['a61', 'Bradley Tabau', 'LCC', [16, 19, 16, 12]], ['a62', 'Ahmadou Bamba Calcinha', 'LCC', [13, 20, 8, 16]], ['a63', 'Francisco Pedro Derresa', 'ENGFIS', [8, 12, 20, 18]], ['a64', 'Gil Miguel Lima', 'ENGBIOM', [16, 19, 8, 14]], ['a65', 'Leonor Pedro Carqueijeiro', 'ENGBIOM', [19, 11, 17, 8]], ['a66', 'Genrikh Maximovich Vila-Chã', 'ENGFIS', [12, 15, 13, 9]], ['a67', 'Mayra Larissa Rolo', 'LCC', [15, 14, 17, 12]], ['a68', 'Leandro David Dunhoo', 'ENGBIOM', [15, 14, 11, 15]], ['a69', 'Adele Belchior', 'ENGBIOM', [17, 12, 20, 12]], ['a70', 'Frantceska Borreca', 'ENGFIS', [18, 11, 19, 8]], ['a71', 'Derrick Urias', 'ENGFIS', [11, 10, 8, 14]], ['a72', 'Ana Gabriel Quirino', 'LCC', [10, 17, 8, 19]], ['a73', 'Carolina Antoo', 'ENGBIOM', [16, 19, 20, 10]], ['a74', 'Vânia Sofia Porfirio', 'ENGBIOM', [18, 19, 18, 15]], ['a75', 'Dárcio Wosvaldo Tudela', 'LEI', [8, 18, 9, 18]], ['a76', 'Zhara Couxão', 'ENGFIS', [16, 10, 14, 12]], ['a77', 'Tomé Ferrito', 'LCC', [14, 10, 15, 19]], ['a78', 'Iasmin Paloma Chaveiro', 'LCC', [8, 15, 19, 9]], ['a79', 'Sadagi Cruto', 'ENGBIOM', [13, 18, 14, 18]], ['a80', 'Maria Carolina Josué', 'ENGFIS', [17, 20, 17, 18]], ['a81', 'Quaresma Lancastre', 'ENGBIOM', [17, 9, 16, 19]], ['a82', 'Evaldir Gervasio', 'ENGFIS', [16, 19, 15, 8]], ['a83', 'Dolorinda Adolfo', 'ENGFIS', [11, 20, 16, 8]], ['a84', 'Laudário Frasão', 'LCC', [20, 19, 10, 19]], ['a85', 'Rómula Jeronimo', 'ENGFIS', [10, 13, 12, 11]], ['a86', 'Clésio Rodeiro', 'LCC', [9, 13, 12, 18]], ['a87', 'Feliciano José Avis', 'ENGFIS', [9, 11, 10, 9]], ['a88', 'Afonso Adriano Marca', 'ENGBIOM', [8, 16, 12, 15]], ['a89', 'Victória Miguel Rosete', 'ENGFIS', [8, 13, 13, 18]], ['a90', 'Tome Teroso', 'ENGFIS', [9, 9, 10, 17]], ['a91', 'Constança Filipa Melado', 'LEI', [10, 12, 8, 20]], ['a92', 'Madalena Jesus Alfaiate', 'LEI', [17, 14, 9, 17]], ['a93', 'Bivhan Reimbau', 'LCC', [17, 11, 8, 12]], ['a94', 'Viviana Sofia Gaspar', 'ENGBIOM', [16, 16, 20, 14]], ['a95', 'Íris Soraia Chiote', 'LEI', [11, 11, 17, 16]], ['a96', 'Anaïs Sintra', 'LCC', [19, 19, 12, 9]], ['a97', 'Salvador Banaca', 'LCC', [12, 9, 20, 12]], ['a98', 'Guilherme Matias Almeirão', 'ENGFIS', [14, 9, 12, 11]], ['a99', 'Xavier Luís Bulha', 'ENGFIS', [17, 13, 8, 10]], ['a100', 'Tude Searas', 'LEI', [20, 17, 8, 14]]]\n"
     ]
    }
   ],
   "source": [
    "def getAluno(texto):\n",
    "    textoLimpo=texto.replace(\"\\\"\", \"\")\n",
    "    campos= textoLimpo.split(\",\")\n",
    "    aluno=[]\n",
    "    aluno.append(campos[0])\n",
    "    aluno.append(campos[1])\n",
    "    aluno.append(campos[2])\n",
    "    aluno.append(campos[3:])\n",
    "    lista=[]\n",
    "    for s in aluno[3]:\n",
    "        lista.append(int(s))\n",
    "    aluno[3]=lista\n",
    "    return aluno\n",
    "\n",
    "getAluno(\"\\\"a5\\\",\\\"Tawseef Rebouças\\\",\\\"ENGBIOM\\\",13,14,13,17\")   \n",
    "    \n",
    "\n",
    "\n",
    "def lerDataset(fnome):\n",
    "    f=open(fnome, encoding=\"utf-8\")\n",
    "    bd = []\n",
    "    f.readline()\n",
    "    for linha in f:\n",
    "        bd.append(getAluno(linha))\n",
    "    \n",
    "    return bd\n",
    "BD=[]\n",
    "BD=lerDataset('alunos.csv')\n",
    "print(BD)    "
   ]
  },
  {
   "cell_type": "markdown",
   "metadata": {},
   "source": [
    "## Listagem (exercício 2)\n",
    "\n",
    "Especifica uma função que faça a listagem no monitor dos vários registos de informação.\n",
    "Tenta dar a forma duma tabela em que as colunas têm todas a mesma dimensão."
   ]
  },
  {
   "cell_type": "code",
   "execution_count": 24,
   "metadata": {},
   "outputs": [
    {
     "name": "stdout",
     "output_type": "stream",
     "text": [
      "id    nome    curso    média\n",
      "______________________________\n",
      "a53 | Abner Umbelina | ENGBIOM | 14.75\n",
      "a69 | Adele Belchior | ENGBIOM | 15.25\n",
      "a88 | Afonso Adriano Marca | ENGBIOM | 12.75\n",
      "a62 | Ahmadou Bamba Calcinha | LCC | 14.25\n",
      "a72 | Ana Gabriel Quirino | LCC | 13.5\n",
      "a96 | Anaïs Sintra | LCC | 14.75\n",
      "a32 | Ariane Sofia Foja | LEI | 17.5\n",
      "a8 | Ayla Thaissa Reina | ENGBIOM | 11.5\n",
      "a1 | Aysha Melanie Gilberto | LEI | 11.75\n",
      "a15 | Bianca Cristina Primitivo | ENGBIOM | 13.25\n",
      "a93 | Bivhan Reimbau | LCC | 12.0\n",
      "a61 | Bradley Tabau | LCC | 15.75\n",
      "a73 | Carolina Antoo | ENGBIOM | 16.25\n",
      "a86 | Clésio Rodeiro | LCC | 13.0\n",
      "a91 | Constança Filipa Melado | LEI | 12.5\n",
      "a9 | Cássia Viviane Coitã | ENGFIS | 13.0\n",
      "a13 | Daniela Patrícia Montes | ENGBIOM | 16.75\n",
      "a71 | Derrick Urias | ENGFIS | 10.75\n",
      "a25 | Dhriti Magano | ENGFIS | 14.25\n",
      "a36 | Diana Beatriz Boavista | LCC | 16.5\n",
      "a83 | Dolorinda Adolfo | ENGFIS | 13.75\n",
      "a75 | Dárcio Wosvaldo Tudela | LEI | 13.25\n",
      "a54 | Dânia Lucy Montelobo | LEI | 15.75\n",
      "a37 | Elisiário Saberio | ENGFIS | 16.25\n",
      "a59 | Emanuel Marcos Delfina | LEI | 11.25\n",
      "a6 | Eryk Clementino | LEI | 13.5\n",
      "a58 | Etienne Constentino | ENGBIOM | 11.25\n",
      "a31 | Eva Manuel Caio | ENGFIS | 16.0\n",
      "a82 | Evaldir Gervasio | ENGFIS | 14.5\n",
      "a24 | Éder Sodré | ENGFIS | 14.0\n",
      "a87 | Feliciano José Avis | ENGFIS | 9.75\n",
      "a63 | Francisco Pedro Derresa | ENGFIS | 14.5\n",
      "a70 | Frantceska Borreca | ENGFIS | 14.0\n",
      "a66 | Genrikh Maximovich Vila-Chã | ENGFIS | 12.25\n",
      "a64 | Gil Miguel Lima | ENGBIOM | 14.25\n",
      "a17 | Grace Isabel Patriarca | LCC | 12.75\n",
      "a98 | Guilherme Matias Almeirão | ENGFIS | 11.5\n",
      "a11 | Gustavo Martim Hernandez | ENGBIOM | 11.0\n",
      "a56 | Hakeem Brazão | LEI | 17.25\n",
      "a7 | Ianna Noivo | ENGBIOM | 15.75\n",
      "a51 | Iara de Jesus Gonçalo | ENGFIS | 12.0\n",
      "a78 | Iasmin Paloma Chaveiro | LCC | 12.75\n",
      "a2 | Igor André Cantanhede | ENGFIS | 16.5\n",
      "a45 | Imayame Hespanha | ENGFIS | 16.75\n",
      "a28 | Itiel Quinoy | LEI | 13.25\n",
      "a19 | Ivo Vicente Boisa | ENGBIOM | 13.75\n",
      "a33 | Jaime António Pauseiro | LCC | 12.5\n",
      "a4 | Jasnoor Casegas | LCC | 15.5\n",
      "a49 | Karamjot Arezes | LEI | 12.75\n",
      "a42 | Kattleya Trigueiro | ENGFIS | 16.0\n",
      "a14 | Kaylla Pessego | LCC | 14.0\n",
      "a10 | Koby Vindima | LEI | 14.0\n",
      "a41 | Lachezar Rosas | ENGBIOM | 16.75\n",
      "a84 | Laudário Frasão | LCC | 17.0\n",
      "a3 | Laurénio Narciso | ENGFIS | 12.75\n",
      "a21 | Layana Camejo | ENGFIS | 14.75\n",
      "a68 | Leandro David Dunhoo | ENGBIOM | 13.75\n",
      "a65 | Leonor Pedro Carqueijeiro | ENGBIOM | 13.75\n",
      "a27 | Lisandro Mariano Picassinos | ENGFIS | 12.25\n",
      "a92 | Madalena Jesus Alfaiate | LEI | 14.25\n",
      "a16 | Magna Galhardo | ENGFIS | 15.25\n",
      "a22 | Mahdi Menoita | ENGFIS | 12.75\n",
      "a38 | Maira Brites | ENGFIS | 15.25\n",
      "a30 | Manaia Viseu | ENGFIS | 12.75\n",
      "a80 | Maria Carolina Josué | ENGFIS | 18.0\n",
      "a60 | Mariana Catarina Ramalheira | ENGBIOM | 16.5\n",
      "a67 | Mayra Larissa Rolo | LCC | 14.5\n",
      "a47 | Moisés João Cornelio | LEI | 18.0\n",
      "a55 | Myla Lopez | ENGFIS | 14.5\n",
      "a44 | Mélanie Daniela Bugalhão | LCC | 15.25\n",
      "a40 | Najua Serôdio | LCC | 15.0\n",
      "a48 | Nazir Assif Trinta | LEI | 12.0\n",
      "a29 | Pranika Reimoo | LEI | 14.0\n",
      "a81 | Quaresma Lancastre | ENGBIOM | 15.25\n",
      "a57 | Quinn Aveiro | ENGBIOM | 13.75\n",
      "a50 | Rishit Justa | ENGBIOM | 9.75\n",
      "a85 | Rómula Jeronimo | ENGFIS | 11.5\n",
      "a79 | Sadagi Cruto | ENGBIOM | 15.75\n",
      "a97 | Salvador Banaca | LCC | 13.25\n",
      "a18 | Saubhagya Buco | LEI | 15.25\n",
      "a12 | Siddarta Beiriz | LEI | 14.75\n",
      "a35 | Siyon Anca | LEI | 13.75\n",
      "a52 | Stepfan Owusu Lercas | LEI | 14.25\n",
      "a26 | Steve Devesa | ENGBIOM | 11.75\n",
      "a34 | Tanisha Marzagoo | ENGBIOM | 15.0\n",
      "a43 | Tatiana Guiomar Maricoto | LCC | 13.25\n",
      "a5 | Tawseef Rebouças | ENGBIOM | 14.25\n",
      "a90 | Tome Teroso | ENGFIS | 11.25\n",
      "a77 | Tomé Ferrito | LCC | 14.5\n",
      "a100 | Tude Searas | LEI | 14.75\n",
      "a39 | Victória Gabriela Incenso | LEI | 13.0\n",
      "a89 | Victória Miguel Rosete | ENGFIS | 13.0\n",
      "a20 | Vivaan Castilhos | ENGFIS | 13.0\n",
      "a94 | Viviana Sofia Gaspar | ENGBIOM | 16.5\n",
      "a74 | Vânia Sofia Porfirio | ENGBIOM | 17.5\n",
      "a99 | Xavier Luís Bulha | ENGFIS | 12.0\n",
      "a23 | Yifan Cortinado | LEI | 15.25\n",
      "a46 | Yuri Gabriel Baganha | LCC | 15.25\n",
      "a76 | Zhara Couxão | ENGFIS | 13.0\n",
      "a95 | Íris Soraia Chiote | LEI | 13.75\n"
     ]
    }
   ],
   "source": [
    "# Listagem da informação\n",
    "def chaveOrd(a):\n",
    "    return a[1]\n",
    "\n",
    "def listarDataset(bd):\n",
    "    bd.sort(key=chaveOrd)\n",
    "    print ('id    nome    curso    média')\n",
    "    print(\"______________________________\")\n",
    "    for a in bd:\n",
    "        print(a[0] + \" | \" + a[1] + \" | \" + a[2] + \" | \" + str(sum(a[3])/4))\n",
    "              \n",
    "listarDataset(BD)\n",
    "    "
   ]
  },
  {
   "cell_type": "markdown",
   "metadata": {},
   "source": [
    "## Consulta de um registo (exercício 3)\n",
    "\n",
    "Especifica uma função que, dado o id de um aluno, coloca a sua informação no monitor. Para além disso, indica também a média dos TPC realizados."
   ]
  },
  {
   "cell_type": "code",
   "execution_count": 25,
   "metadata": {},
   "outputs": [
    {
     "name": "stdout",
     "output_type": "stream",
     "text": [
      "a95|Íris Soraia Chiote|LEI|13.75\n"
     ]
    }
   ],
   "source": [
    "\n",
    "def consultarDataset(bd, id):\n",
    "    a=id\n",
    "    for aluno in bd:\n",
    "        if aluno[0]==a:\n",
    "            print (aluno[0] + \"|\" + aluno[1] + \"|\" + aluno[2] + \"|\" +  str(sum(aluno[3])/4))\n",
    "                  \n",
    "consultarDataset(BD, \"a95\")\n"
   ]
  },
  {
   "cell_type": "markdown",
   "metadata": {},
   "source": [
    "## Top 10 (exercício 4)\n",
    "\n",
    "Especifica um função que dá como resultado uma lista com os alunos com as 10 médias mais altas: id, nome, curso, média."
   ]
  },
  {
   "cell_type": "code",
   "execution_count": 26,
   "metadata": {},
   "outputs": [
    {
     "name": "stdout",
     "output_type": "stream",
     "text": [
      "['a80', 'Maria Carolina Josué', 'ENGFIS', 18.0]\n",
      "['a47', 'Moisés João Cornelio', 'LEI', 18.0]\n",
      "['a32', 'Ariane Sofia Foja', 'LEI', 17.5]\n",
      "['a74', 'Vânia Sofia Porfirio', 'ENGBIOM', 17.5]\n",
      "['a56', 'Hakeem Brazão', 'LEI', 17.25]\n",
      "['a84', 'Laudário Frasão', 'LCC', 17.0]\n",
      "['a13', 'Daniela Patrícia Montes', 'ENGBIOM', 16.75]\n",
      "['a45', 'Imayame Hespanha', 'ENGFIS', 16.75]\n",
      "['a41', 'Lachezar Rosas', 'ENGBIOM', 16.75]\n",
      "['a36', 'Diana Beatriz Boavista', 'LCC', 16.5]\n"
     ]
    }
   ],
   "source": [
    "def BD_medias(bd):\n",
    "   \n",
    "    Bdados=[]\n",
    "    for aluno in bd:\n",
    "        Aluno=[aluno[0],aluno[1],aluno[2],(sum(aluno[3])/4)]\n",
    "        Bdados.append(Aluno)\n",
    "    return Bdados\n",
    "\n",
    "def chaveOrd(a):\n",
    "    return a[3]\n",
    "\n",
    "def top10(bd):\n",
    "    b=BD_medias(bd)\n",
    "    b.sort(key=chaveOrd, reverse=True)\n",
    "    for i in range(0,10):\n",
    "        print(b[i])\n",
    "top10(BD)"
   ]
  },
  {
   "cell_type": "markdown",
   "metadata": {},
   "source": [
    "## Distribuição por curso (exercício 5)\n",
    "\n",
    "Especifica uma função que dá como resultado uma lista de pares indicando quantos alunos há em cada curso."
   ]
  },
  {
   "cell_type": "code",
   "execution_count": 27,
   "metadata": {},
   "outputs": [
    {
     "name": "stdout",
     "output_type": "stream",
     "text": [
      "{'ENGBIOM': 25, 'LCC': 20, 'LEI': 23, 'ENGFIS': 32}\n"
     ]
    }
   ],
   "source": [
    "def distribPorCurso(bd):\n",
    "    distribuicao={}\n",
    "    for a in bd:\n",
    "        if a[2] in distribuicao.keys():\n",
    "            distribuicao[a[2]] = distribuicao[a[2]]+1\n",
    "        else:\n",
    "            distribuicao[a[2]]=1\n",
    "    return distribuicao\n",
    "    \n",
    "d=distribPorCurso(BD)\n",
    "print(d)"
   ]
  },
  {
   "cell_type": "markdown",
   "metadata": {},
   "source": [
    "## Distribuição por médias (exercício 6)\n",
    "\n",
    "Especifica uma função que dá como resultado uma lista de pares, média e número de alunos com essa média (considera o valor inteiro da média)."
   ]
  },
  {
   "cell_type": "code",
   "execution_count": 28,
   "metadata": {},
   "outputs": [
    {
     "name": "stdout",
     "output_type": "stream",
     "text": [
      "{'15': 18, '16': 15, '13': 17, '14': 19, '18': 5, '12': 12, '17': 10, '11': 2, '10': 2}\n"
     ]
    }
   ],
   "source": [
    "import math\n",
    "def BD_medias(bd):\n",
    "   \n",
    "    Bdados=[]\n",
    "    for aluno in bd:\n",
    "        Aluno=[aluno[0],aluno[1],aluno[2],str(math.ceil(sum(aluno[3])/4))]\n",
    "        Bdados.append(Aluno)\n",
    "    return Bdados\n",
    "\n",
    "\n",
    "def distribPorMedia(d):\n",
    "    bd=BD_medias(d)\n",
    "    medias={}\n",
    "    for a in bd:\n",
    "        if a[3] in medias.keys():\n",
    "            medias[a[3]]= medias[a[3]]+1\n",
    "        else:\n",
    "             medias[a[3]]=1\n",
    "    return medias\n",
    "\n",
    "m=distribPorMedia(BD)\n",
    "print(m)  "
   ]
  },
  {
   "cell_type": "markdown",
   "metadata": {},
   "source": [
    "# Gráficos\n",
    "\n",
    "## Gráfico da distribuição por curso (exercício 7)\n",
    "\n",
    "Especifica uma função que faz o plot dum gráfico com a distribuição de alunos por curso."
   ]
  },
  {
   "cell_type": "code",
   "execution_count": 29,
   "metadata": {},
   "outputs": [
    {
     "data": {
      "image/png": "[encoded data removed]",
      "text/plain": [
       "<Figure size 432x288 with 1 Axes>"
      ]
     },
     "metadata": {},
     "output_type": "display_data"
    }
   ],
   "source": [
    "import matplotlib.pyplot as plt\n",
    "def plotDistribPorCurso(bd):\n",
    "    a=distribPorCurso(bd)\n",
    "    tuplo= a.items()\n",
    "    \n",
    "    # defining labels\n",
    "    cursos = []\n",
    "    for elem in tuplo:\n",
    "        cursos.append(elem[0])\n",
    "    N_Alunos = []\n",
    "    for e in tuplo:\n",
    "        N_Alunos.append(elem[1])\n",
    "    colors = ['purple', 'blue', 'pink', 'green']\n",
    "    plt.pie(N_Alunos, labels = cursos, colors=colors,\n",
    "        startangle=90, shadow = True, explode = (0, 0, 0.1, 0),\n",
    "        radius = 1.2, autopct = '%1.1f%%')\n",
    "    plt.legend()\n",
    "    plt.show()\n",
    "plotDistribPorCurso(BD)"
   ]
  },
  {
   "cell_type": "markdown",
   "metadata": {},
   "source": [
    "## Gráfico da distribuição por média (exercício 8)\n",
    "\n",
    "Especifica uma função que faz o plot dum gráfico com a distribuição de alunos por média."
   ]
  },
  {
   "cell_type": "code",
   "execution_count": 31,
   "metadata": {},
   "outputs": [
    {
     "data": {
      "image/png": "[encoded data removed]",
      "text/plain": [
       "<Figure size 432x288 with 1 Axes>"
      ]
     },
     "metadata": {
      "needs_background": "light"
     },
     "output_type": "display_data"
    }
   ],
   "source": [
    "import matplotlib.pyplot as plt\n",
    "def plotDistribPorMedia(bd):\n",
    "    a=distribPorMedia(bd)\n",
    "    tuplo=a.items()\n",
    "    height=[]\n",
    "    left=[]\n",
    "    tick_label=[]\n",
    "    for i in range(len(tuplo)):\n",
    "        left.append(i)\n",
    "    for elem in tuplo:\n",
    "        height.append(elem[1])\n",
    "        tick_label.append(elem[0])\n",
    "    plt.bar(left,height, tick_label= tick_label,\n",
    "           width=0.8, color=[\"pink\"])\n",
    "    plt.xlabel(\"Médias\")\n",
    "    plt.ylabel(\"Número de Alunos\")\n",
    "    plt.title(\"Distribuição de Alunos por Curso\")\n",
    "    plt.show()\n",
    "plotDistribPorMedia(BD)"
   ]
  }
 ],
 "metadata": {
  "interpreter": {
   "hash": "aee8b7b246df8f9039afb4144a1f6fd8d2ca17a180786b69acc140d282b71a49"
  },
  "kernelspec": {
   "display_name": "Python 3",
   "language": "python",
   "name": "python3"
  },
  "language_info": {
   "codemirror_mode": {
    "name": "ipython",
    "version": 3
   },
   "file_extension": ".py",
   "mimetype": "text/x-python",
   "name": "python",
   "nbconvert_exporter": "python",
   "pygments_lexer": "ipython3",
   "version": "3.8.8"
  }
 },
 "nbformat": 4,
 "nbformat_minor": 2
}
